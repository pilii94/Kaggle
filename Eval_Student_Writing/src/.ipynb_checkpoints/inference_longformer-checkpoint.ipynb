{
 "cells": [
  {
   "cell_type": "markdown",
   "metadata": {},
   "source": [
    "## setup envirionment"
   ]
  },
  {
   "cell_type": "code",
   "execution_count": 5,
   "metadata": {
    "_kg_hide-output": true,
    "execution": {
     "iopub.execute_input": "2022-01-30T10:22:22.840113Z",
     "iopub.status.busy": "2022-01-30T10:22:22.839657Z",
     "iopub.status.idle": "2022-01-30T10:22:26.558663Z",
     "shell.execute_reply": "2022-01-30T10:22:26.558107Z",
     "shell.execute_reply.started": "2022-01-30T10:22:22.840002Z"
    },
    "executionInfo": {
     "elapsed": 1965,
     "status": "ok",
     "timestamp": 1643460858524,
     "user": {
      "displayName": "y t",
      "photoUrl": "https://lh3.googleusercontent.com/a-/AOh14GgRZ6fLkineSxkBHgMnfgIHRSuvYfVHMYPCUZkOvA=s64",
      "userId": "13164130964423266686"
     },
     "user_tz": -540
    },
    "id": "3zuiIZsfklQp",
    "outputId": "75b66195-51d1-4ea2-b321-8792e36bba08"
   },
   "outputs": [],
   "source": [
    "import os\n",
    "import sys \n",
    "\n",
    "from main import *\n",
    "sys.path.insert(0,\"../common/\")\n",
    "from utils import *\n",
    "\n",
    "for dirname, _, filenames in os.walk('/kaggle/input'):\n",
    "    for filename in filenames:\n",
    "        print(os.path.join(dirname, filename))"
   ]
  },
  {
   "cell_type": "markdown",
   "metadata": {
    "id": "Ip73rtLOC8tV"
   },
   "source": [
    "Config"
   ]
  },
  {
   "cell_type": "code",
   "execution_count": 6,
   "metadata": {
    "execution": {
     "iopub.execute_input": "2022-01-30T10:22:50.508437Z",
     "iopub.status.busy": "2022-01-30T10:22:50.507704Z",
     "iopub.status.idle": "2022-01-30T10:22:50.517789Z",
     "shell.execute_reply": "2022-01-30T10:22:50.516818Z",
     "shell.execute_reply.started": "2022-01-30T10:22:50.508401Z"
    },
    "executionInfo": {
     "elapsed": 8,
     "status": "ok",
     "timestamp": 1643460858524,
     "user": {
      "displayName": "y t",
      "photoUrl": "https://lh3.googleusercontent.com/a-/AOh14GgRZ6fLkineSxkBHgMnfgIHRSuvYfVHMYPCUZkOvA=s64",
      "userId": "13164130964423266686"
     },
     "user_tz": -540
    },
    "id": "KgOMqia7C8Rn"
   },
   "outputs": [],
   "source": [
    "\n",
    "name = 'fp_exp3'\n",
    "model_savename = 'longformer'\n",
    "\n",
    "model_name = '../input/pt-longformer-base' # https://www.kaggle.com/kishalmandal/pt-longformer-base\n",
    "base_dir = '../'\n",
    "data_dir = '../data/feedback-prize-2021/'\n",
    "pre_data_dir = '../preprocessed/'\n",
    "model_dir = '.'\n",
    "output_dir = '.'\n",
    "\n",
    "n_epoch = 1 # not to exceed runtime limits on Kaggle\n",
    "n_fold = 5\n",
    "verbose_steps = 500\n",
    "random_seed = 42\n",
    "max_length = 1024\n",
    "train_batch_size = 4\n",
    "valid_batch_size = 4\n",
    "lr = 5e-5\n",
    "num_labels = 15\n",
    "label_subtokens = True\n",
    "output_hidden_states = True\n",
    "hidden_dropout_prob = 0.1\n",
    "layer_norm_eps = 1e-7\n",
    "add_pooling_layer = False\n",
    "verbose_steps = 500\n",
    "\n",
    "IGNORE_INDEX = -100\n",
    "NON_LABEL = -1\n",
    "OUTPUT_LABELS = ['0', 'B-Lead', 'I-Lead', 'B-Position', 'I-Position', 'B-Claim', 'I-Claim', 'B-Counterclaim', 'I-Counterclaim', \n",
    "                 'B-Rebuttal', 'I-Rebuttal', 'B-Evidence', 'I-Evidence', 'B-Concluding Statement', 'I-Concluding Statement']\n",
    "LABELS_TO_IDS = {v:k for k,v in enumerate(OUTPUT_LABELS)}\n",
    "IDS_TO_LABELS = {k:v for k,v in enumerate(OUTPUT_LABELS)}\n",
    "\n",
    "MIN_THRESH = {\n",
    "    \"I-Lead\": 9,\n",
    "    \"I-Position\": 5,\n",
    "    \"I-Evidence\": 14,\n",
    "    \"I-Claim\": 3,\n",
    "    \"I-Concluding Statement\": 11,\n",
    "    \"I-Counterclaim\": 6,\n",
    "    \"I-Rebuttal\": 4,\n",
    "}\n",
    "\n",
    "PROB_THRESH = {\n",
    "    \"I-Lead\": 0.7,\n",
    "    \"I-Position\": 0.55,\n",
    "    \"I-Evidence\": 0.65,\n",
    "    \"I-Claim\": 0.55,\n",
    "    \"I-Concluding Statement\": 0.7,\n",
    "    \"I-Counterclaim\": 0.5,\n",
    "    \"I-Rebuttal\": 0.55,\n",
    "}\n"
   ]
  },
  {
   "cell_type": "code",
   "execution_count": 7,
   "metadata": {
    "execution": {
     "iopub.execute_input": "2022-01-30T10:23:10.751630Z",
     "iopub.status.busy": "2022-01-30T10:23:10.750831Z",
     "iopub.status.idle": "2022-01-30T10:23:13.376392Z",
     "shell.execute_reply": "2022-01-30T10:23:13.375612Z",
     "shell.execute_reply.started": "2022-01-30T10:23:10.751586Z"
    },
    "executionInfo": {
     "elapsed": 1661,
     "status": "ok",
     "timestamp": 1643460864661,
     "user": {
      "displayName": "y t",
      "photoUrl": "https://lh3.googleusercontent.com/a-/AOh14GgRZ6fLkineSxkBHgMnfgIHRSuvYfVHMYPCUZkOvA=s64",
      "userId": "13164130964423266686"
     },
     "user_tz": -540
    },
    "id": "DZe70phDk1QF"
   },
   "outputs": [],
   "source": [
    "# general\n",
    "import pandas as pd\n",
    "import numpy as np\n",
    "import random\n",
    "from tqdm.notebook import tqdm\n",
    "from sklearn.model_selection import KFold\n",
    "from sklearn.metrics import accuracy_score\n",
    "import gc\n",
    "from collections import defaultdict\n",
    "# nlp\n",
    "from sklearn.feature_extraction.text import CountVectorizer\n",
    "import torch\n",
    "import torch.nn as nn\n",
    "from transformers import LongformerConfig, LongformerModel, LongformerTokenizerFast\n",
    "from torch.utils.data import Dataset, DataLoader\n",
    "from torch.cuda.amp import autocast, GradScaler"
   ]
  },
  {
   "cell_type": "code",
   "execution_count": 8,
   "metadata": {},
   "outputs": [],
   "source": [
    "def get_preds_folds(df, dl, criterion, valid_flg=False):\n",
    "    for i_fold in range(config['n_fold']):\n",
    "        model_filename = os.path.join(config['model_dir'], f\"{config['model_savename']}_{i_fold}.bin\")\n",
    "        print(f\"{model_filename} inference\")\n",
    "        model = FeedbackModel()\n",
    "        model = model.to(device)\n",
    "        model.load_state_dict(torch.load(model_filename))\n",
    "        logits, valid_loss, valid_acc = inference(model, dl, criterion, valid_flg)\n",
    "        if i_fold == 0:\n",
    "            avg_pred_logits = logits\n",
    "        else:\n",
    "            avg_pred_logits += logits\n",
    "    avg_pred_logits /= config['n_fold']\n",
    "    all_preds, all_preds_prob = preds_class_prob(avg_pred_logits, dl)\n",
    "    df_pred = post_process_pred(df, all_preds, all_preds_prob)\n",
    "    return df_pred"
   ]
  },
  {
   "cell_type": "code",
   "execution_count": 13,
   "metadata": {},
   "outputs": [
    {
     "name": "stderr",
     "output_type": "stream",
     "text": [
      "100%|██████████| 5/5 [00:00<00:00, 828.78it/s]"
     ]
    },
    {
     "name": "stdout",
     "output_type": "stream",
     "text": [
      "Completed tokenizing texts.\n"
     ]
    },
    {
     "name": "stderr",
     "output_type": "stream",
     "text": [
      "\n"
     ]
    }
   ],
   "source": [
    "train_flg = False\n",
    "\n",
    "df_submission_prep = preprocess()\n"
   ]
  },
  {
   "cell_type": "code",
   "execution_count": null,
   "metadata": {},
   "outputs": [],
   "source": [
    "subm_idlist = df_submission_prep['id'].unique().tolist()\n",
    "ds_submission_prep = FeedbackPrizeDataset(df_submission_prep, tokenizer, config['max_length'], True)\n",
    "dl_submission_prep = DataLoader(ds_submission_prep, batch_size=config['valid_batch_size'], shuffle=False, num_workers=2, pin_memory=True)\n",
    "criterion = ''\n",
    "get_preds_folds(df_submission_prep, dl_submission_prep, criterion, valid_flg=False)"
   ]
  }
 ],
 "metadata": {
  "kernelspec": {
   "display_name": "redstor_env",
   "language": "python",
   "name": "redstor_env"
  },
  "language_info": {
   "codemirror_mode": {
    "name": "ipython",
    "version": 3
   },
   "file_extension": ".py",
   "mimetype": "text/x-python",
   "name": "python",
   "nbconvert_exporter": "python",
   "pygments_lexer": "ipython3",
   "version": "3.8.8"
  }
 },
 "nbformat": 4,
 "nbformat_minor": 4
}
